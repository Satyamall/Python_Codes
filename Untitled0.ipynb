{
  "nbformat": 4,
  "nbformat_minor": 0,
  "metadata": {
    "colab": {
      "provenance": [],
      "authorship_tag": "ABX9TyNh31/W9mpavphdBNucdTq8",
      "include_colab_link": true
    },
    "kernelspec": {
      "name": "python3",
      "display_name": "Python 3"
    },
    "language_info": {
      "name": "python"
    }
  },
  "cells": [
    {
      "cell_type": "markdown",
      "metadata": {
        "id": "view-in-github",
        "colab_type": "text"
      },
      "source": [
        "<a href=\"https://colab.research.google.com/github/Satyamall/Python_Codes/blob/main/Untitled0.ipynb\" target=\"_parent\"><img src=\"https://colab.research.google.com/assets/colab-badge.svg\" alt=\"Open In Colab\"/></a>"
      ]
    },
    {
      "cell_type": "code",
      "execution_count": null,
      "metadata": {
        "id": "xtrQktufM-WZ",
        "colab": {
          "base_uri": "https://localhost:8080/"
        },
        "outputId": "45b0fb4e-20d1-4a29-a21b-d7a54cc303c4"
      },
      "outputs": [
        {
          "output_type": "stream",
          "name": "stdout",
          "text": [
            "I am a Full Stack Developer\n"
          ]
        }
      ],
      "source": [
        "print(\"I am a Full Stack Developer\")"
      ]
    },
    {
      "cell_type": "code",
      "source": [
        "a=10"
      ],
      "metadata": {
        "id": "l9UuEwNePYtp"
      },
      "execution_count": null,
      "outputs": []
    },
    {
      "cell_type": "code",
      "source": [
        "print(a)"
      ],
      "metadata": {
        "colab": {
          "base_uri": "https://localhost:8080/"
        },
        "id": "nnJSPrckPjt2",
        "outputId": "0ad26414-3f56-4dda-cd39-37af7111b991"
      },
      "execution_count": null,
      "outputs": [
        {
          "output_type": "stream",
          "name": "stdout",
          "text": [
            "10\n"
          ]
        }
      ]
    },
    {
      "cell_type": "code",
      "source": [
        "b = 10.9876554"
      ],
      "metadata": {
        "id": "ST5qmHPpPooq"
      },
      "execution_count": null,
      "outputs": []
    },
    {
      "cell_type": "code",
      "source": [
        "print(type(b))"
      ],
      "metadata": {
        "colab": {
          "base_uri": "https://localhost:8080/"
        },
        "id": "FYAkuNV6QJZ2",
        "outputId": "4bc25ea8-5f02-4f09-ae6b-17857355f3ca"
      },
      "execution_count": null,
      "outputs": [
        {
          "output_type": "stream",
          "name": "stdout",
          "text": [
            "<class 'float'>\n"
          ]
        }
      ]
    },
    {
      "cell_type": "code",
      "source": [
        "print(\"Print the value of b =\",b ,type(b))"
      ],
      "metadata": {
        "id": "f7kY6CKqQNN5",
        "colab": {
          "base_uri": "https://localhost:8080/"
        },
        "outputId": "1a3510be-cb90-4bfa-f93f-9ae23e24b797"
      },
      "execution_count": 6,
      "outputs": [
        {
          "output_type": "stream",
          "name": "stdout",
          "text": [
            "Print the value of b = 10.9876554 <class 'float'>\n"
          ]
        }
      ]
    },
    {
      "cell_type": "code",
      "source": [],
      "metadata": {
        "id": "fT9QxbeFSq8K"
      },
      "execution_count": 6,
      "outputs": []
    }
  ]
}