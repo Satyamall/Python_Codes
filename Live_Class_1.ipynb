{
  "cells": [
    {
      "cell_type": "markdown",
      "metadata": {
        "id": "view-in-github",
        "colab_type": "text"
      },
      "source": [
        "<a href=\"https://colab.research.google.com/github/Satyamall/Python_Codes/blob/main/Live_Class_1.ipynb\" target=\"_parent\"><img src=\"https://colab.research.google.com/assets/colab-badge.svg\" alt=\"Open In Colab\"/></a>"
      ]
    },
    {
      "cell_type": "code",
      "execution_count": null,
      "id": "592f8800-2fec-41f1-ad7b-506439efc819",
      "metadata": {
        "id": "592f8800-2fec-41f1-ad7b-506439efc819",
        "outputId": "e97a310a-c52b-453b-e800-b61ac0eb4b0e"
      },
      "outputs": [
        {
          "name": "stdout",
          "output_type": "stream",
          "text": [
            "Hello Hi\n"
          ]
        }
      ],
      "source": [
        "print(\"Hello Hi\")"
      ]
    },
    {
      "cell_type": "code",
      "execution_count": null,
      "id": "0692244b-e2c3-4954-9728-85667eac28ab",
      "metadata": {
        "id": "0692244b-e2c3-4954-9728-85667eac28ab"
      },
      "outputs": [],
      "source": [
        "a = 10"
      ]
    },
    {
      "cell_type": "code",
      "execution_count": null,
      "id": "fed655b3-b4c2-4701-ae70-77b51b0e800b",
      "metadata": {
        "id": "fed655b3-b4c2-4701-ae70-77b51b0e800b",
        "outputId": "73c3e4fe-5bcf-4fc5-ef5e-beece9e8ba98"
      },
      "outputs": [
        {
          "name": "stdout",
          "output_type": "stream",
          "text": [
            "10\n"
          ]
        }
      ],
      "source": [
        "print(a)"
      ]
    },
    {
      "cell_type": "code",
      "execution_count": null,
      "id": "ce789327-ba07-4937-b078-c2194ed3d167",
      "metadata": {
        "id": "ce789327-ba07-4937-b078-c2194ed3d167"
      },
      "outputs": [],
      "source": [
        "Identifier_name = 78"
      ]
    },
    {
      "cell_type": "code",
      "execution_count": null,
      "id": "bb161a0a-9700-43c3-a3b2-0bea0f06e060",
      "metadata": {
        "id": "bb161a0a-9700-43c3-a3b2-0bea0f06e060"
      },
      "outputs": [],
      "source": [
        "class CAR():\n",
        "    pass"
      ]
    },
    {
      "cell_type": "code",
      "execution_count": null,
      "id": "61b45a9b-0ac2-45bd-9f32-45c2733be410",
      "metadata": {
        "id": "61b45a9b-0ac2-45bd-9f32-45c2733be410",
        "outputId": "c18bb480-7e72-4efd-8b9a-097d4a30a459"
      },
      "outputs": [
        {
          "ename": "SyntaxError",
          "evalue": "invalid decimal literal (804811209.py, line 1)",
          "output_type": "error",
          "traceback": [
            "\u001b[0;36m  File \u001b[0;32m\"/tmp/ipykernel_105/804811209.py\"\u001b[0;36m, line \u001b[0;32m1\u001b[0m\n\u001b[0;31m    9hgd = 78\u001b[0m\n\u001b[0m    ^\u001b[0m\n\u001b[0;31mSyntaxError\u001b[0m\u001b[0;31m:\u001b[0m invalid decimal literal\n"
          ]
        }
      ],
      "source": [
        "9hgd = 78"
      ]
    },
    {
      "cell_type": "code",
      "execution_count": null,
      "id": "da243597-2890-4a39-a0bd-1ab6e5707cfd",
      "metadata": {
        "id": "da243597-2890-4a39-a0bd-1ab6e5707cfd",
        "outputId": "ef54d2f2-47c8-40d1-e664-69225bfb56c2"
      },
      "outputs": [
        {
          "name": "stderr",
          "output_type": "stream",
          "text": [
            "UsageError: Line magic function `%gg` not found.\n"
          ]
        }
      ],
      "source": [
        "%gg = 8"
      ]
    },
    {
      "cell_type": "code",
      "execution_count": null,
      "id": "f5180966-ebf7-4904-93b4-e01220020102",
      "metadata": {
        "id": "f5180966-ebf7-4904-93b4-e01220020102"
      },
      "outputs": [],
      "source": [
        "_first_identifier10 = 90"
      ]
    },
    {
      "cell_type": "code",
      "execution_count": null,
      "id": "dd7ca103-955e-4c9b-b8cb-507500e82ed1",
      "metadata": {
        "id": "dd7ca103-955e-4c9b-b8cb-507500e82ed1"
      },
      "outputs": [],
      "source": [
        "# False\tdef\tif\traise\n",
        "# None\tdel\timport\treturn\n",
        "# True\telif\tin\ttry\n",
        "# and\telse\tis\twhile\n",
        "# as\texcept\tlambda\twith\n",
        "# assert\tfinally\tnonlocal\tyield\n",
        "# break\tfor\tnot\n",
        "# class\tform\tor\n",
        "# continue\tglobal\tpass"
      ]
    },
    {
      "cell_type": "code",
      "execution_count": null,
      "id": "8980391e-4d10-42e1-87cf-c969bdb26fb6",
      "metadata": {
        "id": "8980391e-4d10-42e1-87cf-c969bdb26fb6"
      },
      "outputs": [],
      "source": [
        "print = 89"
      ]
    },
    {
      "cell_type": "code",
      "execution_count": null,
      "id": "fabedec5-8324-4a81-9689-940028f31828",
      "metadata": {
        "id": "fabedec5-8324-4a81-9689-940028f31828",
        "outputId": "c3a4435e-8421-4349-eee4-03d5d4ae46ad"
      },
      "outputs": [
        {
          "data": {
            "text/plain": [
              "89"
            ]
          },
          "execution_count": 11,
          "metadata": {},
          "output_type": "execute_result"
        }
      ],
      "source": [
        "print"
      ]
    },
    {
      "cell_type": "code",
      "execution_count": null,
      "id": "ba896450-6584-4506-aed3-c60571349c04",
      "metadata": {
        "id": "ba896450-6584-4506-aed3-c60571349c04",
        "outputId": "11f4882a-3b4d-473d-f5d0-ae41c084a46a"
      },
      "outputs": [
        {
          "data": {
            "text/plain": [
              "99"
            ]
          },
          "execution_count": 13,
          "metadata": {},
          "output_type": "execute_result"
        }
      ],
      "source": [
        "a + print"
      ]
    },
    {
      "cell_type": "code",
      "execution_count": null,
      "id": "49fa55ca-c938-4f8a-80e0-7bd61bc2a30c",
      "metadata": {
        "id": "49fa55ca-c938-4f8a-80e0-7bd61bc2a30c",
        "outputId": "a05c50a5-1a64-4d39-94fd-70236519825b"
      },
      "outputs": [
        {
          "data": {
            "text/plain": [
              "10"
            ]
          },
          "execution_count": 14,
          "metadata": {},
          "output_type": "execute_result"
        }
      ],
      "source": [
        "a"
      ]
    },
    {
      "cell_type": "code",
      "execution_count": null,
      "id": "d3bce976-6444-47a5-9036-5b4019303346",
      "metadata": {
        "id": "d3bce976-6444-47a5-9036-5b4019303346",
        "outputId": "194b4626-bc73-4568-bdb2-5b1af9a3d093"
      },
      "outputs": [
        {
          "ename": "TypeError",
          "evalue": "'int' object is not callable",
          "output_type": "error",
          "traceback": [
            "\u001b[0;31m---------------------------------------------------------------------------\u001b[0m",
            "\u001b[0;31mTypeError\u001b[0m                                 Traceback (most recent call last)",
            "\u001b[0;32m/tmp/ipykernel_105/4045386643.py\u001b[0m in \u001b[0;36m<cell line: 1>\u001b[0;34m()\u001b[0m\n\u001b[0;32m----> 1\u001b[0;31m \u001b[0mprint\u001b[0m\u001b[0;34m(\u001b[0m\u001b[0mprint\u001b[0m\u001b[0;34m)\u001b[0m\u001b[0;34m\u001b[0m\u001b[0;34m\u001b[0m\u001b[0m\n\u001b[0m",
            "\u001b[0;31mTypeError\u001b[0m: 'int' object is not callable"
          ]
        }
      ],
      "source": [
        "print(print)"
      ]
    },
    {
      "cell_type": "code",
      "execution_count": null,
      "id": "653cb536-5686-4405-98b8-70e24056819a",
      "metadata": {
        "id": "653cb536-5686-4405-98b8-70e24056819a"
      },
      "outputs": [],
      "source": [
        "notuse"
      ]
    },
    {
      "cell_type": "code",
      "execution_count": null,
      "id": "eaac2899-b392-4e49-8083-a4074b7a7f3a",
      "metadata": {
        "id": "eaac2899-b392-4e49-8083-a4074b7a7f3a"
      },
      "outputs": [],
      "source": [
        "class CAR():\n",
        "    gdhssjs\n",
        "    dhjsjs\n",
        "    hdhsjs\n",
        "    hdhsjsjs"
      ]
    },
    {
      "cell_type": "code",
      "execution_count": null,
      "id": "b0bffcf6-8629-4684-8a44-9ce547b83d68",
      "metadata": {
        "id": "b0bffcf6-8629-4684-8a44-9ce547b83d68"
      },
      "outputs": [],
      "source": [
        "a = 10\n",
        "b = 20"
      ]
    },
    {
      "cell_type": "code",
      "execution_count": null,
      "id": "973dc1e7-9cbd-41fa-b3fa-1a42d4233bfc",
      "metadata": {
        "id": "973dc1e7-9cbd-41fa-b3fa-1a42d4233bfc",
        "outputId": "9a9a2428-12ed-483b-826f-33fabd1d6b44"
      },
      "outputs": [
        {
          "name": "stdout",
          "output_type": "stream",
          "text": [
            "Success\n",
            "Hey\n",
            "bye\n",
            "Amazing\n"
          ]
        }
      ],
      "source": [
        "if a == 10:\n",
        "\n",
        " print(\"Success\")\n",
        " print(\"Hey\")\n",
        " print(\"bye\")\n",
        "\n",
        "if b == 20:\n",
        "\n",
        "        print(\"Amazing\")"
      ]
    },
    {
      "cell_type": "code",
      "execution_count": null,
      "id": "74bf0c27-9213-4288-9574-8e4339c9fe22",
      "metadata": {
        "id": "74bf0c27-9213-4288-9574-8e4339c9fe22",
        "outputId": "9f81ddb3-f691-4b4b-8d54-74b0059f727d"
      },
      "outputs": [
        {
          "name": "stdout",
          "output_type": "stream",
          "text": [
            "Success\n",
            "Hey\n",
            "bye\n",
            "Amazing\n"
          ]
        }
      ],
      "source": [
        "if a == 10:\n",
        "\n",
        "    print(\"Success\")\n",
        "    print(\"Hey\")\n",
        "    print(\"bye\")\n",
        "\n",
        "    if b == 20:\n",
        "\n",
        "        print(\"Amazing\")"
      ]
    },
    {
      "cell_type": "code",
      "execution_count": null,
      "id": "4de1b595-3630-4554-a553-8ff3e084aa0c",
      "metadata": {
        "id": "4de1b595-3630-4554-a553-8ff3e084aa0c"
      },
      "outputs": [],
      "source": [
        "# This is a comment"
      ]
    },
    {
      "cell_type": "code",
      "execution_count": null,
      "id": "6ab86e00-4979-4a11-a2e0-0e772cc0288d",
      "metadata": {
        "id": "6ab86e00-4979-4a11-a2e0-0e772cc0288d"
      },
      "outputs": [],
      "source": [
        "a = 10 # \"a\" is my object which belongs to class integer"
      ]
    },
    {
      "cell_type": "code",
      "execution_count": null,
      "id": "3ca378f2-aaba-479a-af3a-a3fb35434913",
      "metadata": {
        "id": "3ca378f2-aaba-479a-af3a-a3fb35434913"
      },
      "outputs": [],
      "source": [
        "# a = 10  \"a\" is my object which belongs to class integer"
      ]
    },
    {
      "cell_type": "code",
      "execution_count": null,
      "id": "b61fd031-a8a0-4495-971c-4eacf1e32c9f",
      "metadata": {
        "id": "b61fd031-a8a0-4495-971c-4eacf1e32c9f"
      },
      "outputs": [],
      "source": []
    }
  ],
  "metadata": {
    "kernelspec": {
      "display_name": "Python 3 [3.10]",
      "language": "python",
      "name": "python3"
    },
    "language_info": {
      "codemirror_mode": {
        "name": "ipython",
        "version": 3
      },
      "file_extension": ".py",
      "mimetype": "text/x-python",
      "name": "python",
      "nbconvert_exporter": "python",
      "pygments_lexer": "ipython3",
      "version": "3.10.2"
    },
    "colab": {
      "provenance": [],
      "include_colab_link": true
    }
  },
  "nbformat": 4,
  "nbformat_minor": 5
}